{
 "cells": [
  {
   "cell_type": "markdown",
   "id": "84d3f119-0cd8-4b34-a452-3e91395cca47",
   "metadata": {},
   "source": [
    "# Import necessary libraries"
   ]
  },
  {
   "cell_type": "code",
   "execution_count": 3,
   "id": "c8be6e65-4aa9-48d3-b4d7-7d2798349657",
   "metadata": {},
   "outputs": [],
   "source": [
    "import os\n",
    "import cv2\n",
    "import time\n",
    "import numpy as np\n",
    "import mediapipe as mp\n",
    "from matplotlib import pyplot as plt"
   ]
  },
  {
   "cell_type": "markdown",
   "id": "07a82472-ee4c-401b-8f28-ce8d55f1e9d4",
   "metadata": {},
   "source": [
    "# Initialize MediaPipe holistic model and drawing utilities"
   ]
  },
  {
   "cell_type": "code",
   "execution_count": 4,
   "id": "55292229-9150-49ad-bf7e-8fb7a0468c75",
   "metadata": {},
   "outputs": [],
   "source": [
    "mp_holistic = mp.solutions.holistic # Holistic model -  used for tracking and detecting multiple body parts simultaneously\n",
    "mp_drawing = mp.solutions.drawing_utils # Drawing utilities - used for visualizing the detected landmarks on images or video frames"
   ]
  },
  {
   "cell_type": "markdown",
   "id": "44031c95-9b42-4d49-9453-d098cc604d3a",
   "metadata": {},
   "source": [
    "# Section 1: Utility Functions\n",
    "-----------------------------------------------------------------------------------"
   ]
  },
  {
   "cell_type": "code",
   "execution_count": 5,
   "id": "2cbe30e5-3b18-4cc1-ab5c-5dfa39716ba7",
   "metadata": {},
   "outputs": [],
   "source": [
    "def draw_styled_landmarks(image, results):\n",
    "    \"\"\"\n",
    "    Draws styled landmarks on the input image for face, pose, and hands using MediaPipe.\n",
    "    \n",
    "    Parameters:\n",
    "        image (ndarray): The image on which landmarks will be drawn.\n",
    "        results (object): MediaPipe holistic model predictions.\n",
    "    \"\"\"\n",
    "    # Draw face connections\n",
    "    mp_drawing.draw_landmarks(image, results.face_landmarks, mp_holistic.FACEMESH_CONTOURS, \n",
    "                             mp_drawing.DrawingSpec(color=(80,110,10), thickness=1, circle_radius=1), \n",
    "                             mp_drawing.DrawingSpec(color=(80,256,121), thickness=1, circle_radius=1)\n",
    "                             ) \n",
    "    # Draw pose connections\n",
    "    mp_drawing.draw_landmarks(image, results.pose_landmarks, mp_holistic.POSE_CONNECTIONS,\n",
    "                             mp_drawing.DrawingSpec(color=(80,22,10), thickness=2, circle_radius=4), \n",
    "                             mp_drawing.DrawingSpec(color=(80,44,121), thickness=2, circle_radius=2)\n",
    "                             ) \n",
    "    # Draw left hand connections\n",
    "    mp_drawing.draw_landmarks(image, results.left_hand_landmarks, mp_holistic.HAND_CONNECTIONS, \n",
    "                             mp_drawing.DrawingSpec(color=(121,22,76), thickness=2, circle_radius=4), \n",
    "                             mp_drawing.DrawingSpec(color=(121,44,250), thickness=2, circle_radius=2)\n",
    "                             ) \n",
    "    # Draw right hand connections  \n",
    "    mp_drawing.draw_landmarks(image, results.right_hand_landmarks, mp_holistic.HAND_CONNECTIONS, \n",
    "                             mp_drawing.DrawingSpec(color=(245,117,66), thickness=2, circle_radius=4), \n",
    "                             mp_drawing.DrawingSpec(color=(245,66,230), thickness=2, circle_radius=2)\n",
    "                             ) "
   ]
  },
  {
   "cell_type": "code",
   "execution_count": 6,
   "id": "d207b415-9405-4f16-be45-0da673033f3d",
   "metadata": {},
   "outputs": [],
   "source": [
    "def extract_keypoints(results):\n",
    "    \"\"\"\n",
    "    Extracts keypoints from MediaPipe holistic model predictions for pose, face, left hand, and right hand.\n",
    "    \n",
    "    Parameters:\n",
    "        results (object): MediaPipe holistic model predictions.\n",
    "        \n",
    "    Returns:\n",
    "        ndarray: A concatenated array of keypoints for pose (33x4), face (468x3), left hand (21x3), \n",
    "                 and right hand (21x3). Missing landmarks are replaced with zeros.\n",
    "    \"\"\"\n",
    "    pose = np.array([[res.x, res.y, res.z, res.visibility] for res in results.pose_landmarks.landmark]).flatten() if results.pose_landmarks else np.zeros(33*4)\n",
    "    face = np.array([[res.x, res.y, res.z] for res in results.face_landmarks.landmark]).flatten() if results.face_landmarks else np.zeros(468*3)\n",
    "    lh = np.array([[res.x, res.y, res.z] for res in results.left_hand_landmarks.landmark]).flatten() if results.left_hand_landmarks else np.zeros(21*3)\n",
    "    rh = np.array([[res.x, res.y, res.z] for res in results.right_hand_landmarks.landmark]).flatten() if results.right_hand_landmarks else np.zeros(21*3)\n",
    "    \n",
    "    return np.concatenate([pose, face, lh, rh])"
   ]
  },
  {
   "cell_type": "code",
   "execution_count": 7,
   "id": "fab38b92-7dd6-466d-9d62-754cde4991f3",
   "metadata": {},
   "outputs": [],
   "source": [
    "def mediapipe_detection(image, model):\n",
    "    \"\"\"\n",
    "    Performs MediaPipe detection on an input image.\n",
    "    \n",
    "    Parameters:\n",
    "        image (ndarray): The input image for processing.\n",
    "        model (object): MediaPipe holistic model.\n",
    "        \n",
    "    Returns:\n",
    "        tuple: Processed image and holistic model predictions.\n",
    "    \"\"\"\n",
    "    image = cv2.cvtColor(image, cv2.COLOR_BGR2RGB) # COLOR CONVERSION BGR 2 RGB - Why? -> OpenCV captures images in the BGR color format, while MediaPipe requires the RGB color format for processing\n",
    "    image.flags.writeable = False                  # MAKE IMAGE NOT WRITABLE - Why? -> 1. optimizes processing by reducing memory operations 2. MediaPipe doesn’t need to modify the image during detection, so this prevents accidental changes\n",
    "    results = model.process(image)                 # PREDICTION - detecting landmarks for the face, pose, and hands\n",
    "    image.flags.writeable = True                   # MAKE IMAGE WRITABLE \n",
    "    image = cv2.cvtColor(image, cv2.COLOR_RGB2BGR) # COLOR COVERSION RGB 2 BGR\n",
    "    return image, results"
   ]
  },
  {
   "cell_type": "markdown",
   "id": "67ef92c6-b3fe-4019-a0c9-362bcf626d2c",
   "metadata": {},
   "source": [
    "# Section 2: Data Collection Setup\n",
    "----------------------------------------------"
   ]
  },
  {
   "cell_type": "code",
   "execution_count": 8,
   "id": "bfd4c801-ddf5-4da7-8c6f-33455cad7059",
   "metadata": {},
   "outputs": [],
   "source": [
    "DATA_PATH = os.path.join('MP_Data') \n",
    "\n",
    "actions = np.array(['hello', 'yes', 'no', 'thank-you'])\n",
    "\n",
    "# Thirty videos worth of data\n",
    "no_sequences = 30\n",
    "\n",
    "# Videos in 30 frames in length\n",
    "sequence_length = 30"
   ]
  },
  {
   "cell_type": "code",
   "execution_count": 9,
   "id": "041524a2-fb1a-4699-8d4b-2788157243ef",
   "metadata": {},
   "outputs": [],
   "source": [
    "# Create directories to store data for each action and sequence\n",
    "\n",
    "# The folder structure will look like:\n",
    "# MP_Data/\n",
    "#   ├── thank-you/\n",
    "#   │    ├── 0/\n",
    "#   │    │    ├── 0.npy\n",
    "#   │    │    ├── 1.npy\n",
    "#   │    │    └── ...\n",
    "#   │    └── ...\n",
    "#   ├── no/\n",
    "#   ├── thank-you/\n",
    "#   └── yes/\n",
    "\n",
    "for action in actions: \n",
    "    for sequence in range(no_sequences):\n",
    "        try: \n",
    "            os.makedirs(os.path.join(DATA_PATH, action, str(sequence)))\n",
    "        except:\n",
    "            pass"
   ]
  },
  {
   "cell_type": "markdown",
   "id": "5aa34bb7-aff2-4750-93c0-7423f3d14bf8",
   "metadata": {},
   "source": [
    "# Section 3: Data Collection Loop\n",
    "------------------------------"
   ]
  },
  {
   "cell_type": "code",
   "execution_count": 53,
   "id": "68bdecb7-66d3-48c9-a4b0-d915021778ab",
   "metadata": {},
   "outputs": [],
   "source": [
    "# Connection to the webcam\n",
    "cap = cv2.VideoCapture(0)\n",
    "\n",
    "# Initialize MediaPipe Holistic model\n",
    "# The holistic model detects landmarks for the face, pose, and hands.\n",
    "with mp_holistic.Holistic(min_detection_confidence=0.5, min_tracking_confidence=0.5) as holistic:\n",
    "    \n",
    "    # Loop through each action in the list\n",
    "    for action in actions:\n",
    "        # Loop through the number of sequences (videos) for the current action\n",
    "        for sequence in range(no_sequences):\n",
    "            # Loop through the frames within each sequence\n",
    "            for frame_num in range(sequence_length):\n",
    "\n",
    "                # Capture a frame from the webcam\n",
    "                ret, frame = cap.read()\n",
    "\n",
    "                # Use MediaPipe to detect landmarks in the frame\n",
    "                image, results = mediapipe_detection(frame, holistic)\n",
    "\n",
    "                # Draw detected landmarks (face, pose, hands) on the frame\n",
    "                draw_styled_landmarks(image, results)\n",
    "                \n",
    "                # Display collection status on the first frame of each sequence\n",
    "                if frame_num == 0: \n",
    "                    # Display a message indicating that collection has started\n",
    "                    cv2.putText(image, 'STARTING COLLECTION', (120,200), \n",
    "                               cv2.FONT_HERSHEY_SIMPLEX, 1, (0,255, 0), 4, cv2.LINE_AA)\n",
    "                    cv2.putText(image, 'Collecting frames for {} Video Number {}'.format(action, sequence), (15,12), \n",
    "                               cv2.FONT_HERSHEY_SIMPLEX, 0.5, (0, 0, 255), 1, cv2.LINE_AA)\n",
    "                    \n",
    "                    # Show the frame with the status message\n",
    "                    cv2.imshow('OpenCV Feed', image)\n",
    "                    # Wait for 2 seconds before starting frame capture\n",
    "                    cv2.waitKey(2000) \n",
    "                else: \n",
    "                    # Display the ongoing collection status on subsequent frames\n",
    "                    cv2.putText(image, 'Collecting frames for {} Video Number {}'.format(action, sequence), (15,12), \n",
    "                               cv2.FONT_HERSHEY_SIMPLEX, 0.5, (0, 0, 255), 1, cv2.LINE_AA)\n",
    "                    # Show the frame with the status message\n",
    "                    cv2.imshow('OpenCV Feed', image)\n",
    "                \n",
    "                # Extract keypoints from the detected landmarks\n",
    "                keypoints = extract_keypoints(results)\n",
    "                # Define the save path for the keypoints\n",
    "                npy_path = os.path.join(DATA_PATH, action, str(sequence), str(frame_num))\n",
    "                # Save the keypoints as a .npy file\n",
    "                np.save(npy_path, keypoints)\n",
    "\n",
    "                # Allow user to gracefully exit the loop by pressing 'q'\n",
    "                if cv2.waitKey(10) & 0xFF == ord('q'):\n",
    "                    break\n",
    "\n",
    "    # Release the webcam and close all OpenCV windows\n",
    "    cap.release()\n",
    "    cv2.destroyAllWindows()"
   ]
  }
 ],
 "metadata": {
  "kernelspec": {
   "display_name": "Python 3 (ipykernel)",
   "language": "python",
   "name": "python3"
  },
  "language_info": {
   "codemirror_mode": {
    "name": "ipython",
    "version": 3
   },
   "file_extension": ".py",
   "mimetype": "text/x-python",
   "name": "python",
   "nbconvert_exporter": "python",
   "pygments_lexer": "ipython3",
   "version": "3.11.6"
  }
 },
 "nbformat": 4,
 "nbformat_minor": 5
}
